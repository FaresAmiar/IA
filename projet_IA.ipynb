{
  "cells": [
    {
      "cell_type": "code",
      "execution_count": null,
      "id": "039a50ad",
      "metadata": {
        "id": "039a50ad"
      },
      "outputs": [],
      "source": [
        "'''\n",
        "Min spanning tree avec la ville actuelle, arbre des villes non visitées et sommet de départ\n",
        "ou min spanning tree des villes non visitées et on regarde le sommet avec le moins de poids qui se\n",
        "connecte à la ville actuelle et pareil pour la ville de départ ?\n",
        "'''\n",
        "\n",
        "\n",
        "\n",
        "class Action :\n",
        "  def __init__(self,ville):\n",
        "    self.ville = ville\n",
        "\n",
        "class Etat:\n",
        "  def __init__(self, vActuelle, vVisitees, vAVisiter):\n",
        "    self.vActuelle = vActuelle\n",
        "    self.vAVisiter = vAVisiter\n",
        "    self.vVisitees = vVisitees\n",
        "    self.actions = []\n",
        "\n",
        "  def __init__(self,vAVisiter):\n",
        "    self.vActuelle = None\n",
        "    self.vAVisiter = vAVisiter\n",
        "    self.vVisitees = []\n",
        "    self.actions = []\n",
        "\n",
        "    \n",
        "  def actions(self):\n",
        "      self.actions\n",
        "        \n",
        "  def result(self,a):\n",
        "    self.vAVisiter.remove(a.ville)\n",
        "    self.vActuelle = a.ville\n",
        "    self.vVisitees.add(a.ville)\n",
        "        \n",
        "  def isgoal():\n",
        "      \n",
        "    \n",
        "    "
      ]
    }
  ],
  "metadata": {
    "kernelspec": {
      "display_name": "Python 3 (ipykernel)",
      "language": "python",
      "name": "python3"
    },
    "language_info": {
      "codemirror_mode": {
        "name": "ipython",
        "version": 3
      },
      "file_extension": ".py",
      "mimetype": "text/x-python",
      "name": "python",
      "nbconvert_exporter": "python",
      "pygments_lexer": "ipython3",
      "version": "3.9.7"
    },
    "colab": {
      "name": "projet_IA.ipynb",
      "provenance": []
    }
  },
  "nbformat": 4,
  "nbformat_minor": 5
}