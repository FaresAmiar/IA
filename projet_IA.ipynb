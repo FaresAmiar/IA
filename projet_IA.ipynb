{
 "cells": [
  {
   "cell_type": "code",
   "execution_count": null,
   "id": "039a50ad",
   "metadata": {},
   "outputs": [],
   "source": [
    "'''\n",
    "Min spanning tree avec la ville actuelle, arbre des villes non visitées et sommet de départ\n",
    "ou min spanning tree des villes non visitées et on regarde le sommet avec le moins de poids qui se\n",
    "connecte à la ville actuelle et pareil pour la ville de départ ?\n",
    "'''\n",
    "\n",
    "\n",
    "\n",
    "\n",
    "\n",
    "class Etat:\n",
    "    vActuelle = \"\"\n",
    "    vVisitees = []\n",
    "    vAVisiter = []\n",
    "    \n",
    "    def actions(v):\n",
    "        \n",
    "    def result():\n",
    "        \n",
    "    def isgoal():\n",
    "        \n",
    "    \n",
    "    def __init__(self, vActuelle, vVisitees, vAVisiter):\n",
    "        self.vActuelle = vActuelle\n",
    "        self.vAVisiter = vVisiter\n",
    "        self.vVisitees = vVisistees"
   ]
  }
 ],
 "metadata": {
  "kernelspec": {
   "display_name": "Python 3 (ipykernel)",
   "language": "python",
   "name": "python3"
  },
  "language_info": {
   "codemirror_mode": {
    "name": "ipython",
    "version": 3
   },
   "file_extension": ".py",
   "mimetype": "text/x-python",
   "name": "python",
   "nbconvert_exporter": "python",
   "pygments_lexer": "ipython3",
   "version": "3.9.7"
  }
 },
 "nbformat": 4,
 "nbformat_minor": 5
}
